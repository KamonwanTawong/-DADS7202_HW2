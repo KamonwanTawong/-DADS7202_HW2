{
 "cells": [
  {
   "cell_type": "markdown",
   "metadata": {
    "id": "x36iQpPzbafV"
   },
   "source": [
    "# Check GPU"
   ]
  },
  {
   "cell_type": "code",
   "execution_count": null,
   "metadata": {
    "colab": {
     "base_uri": "https://localhost:8080/"
    },
    "id": "e8qw0a1ZbVJI",
    "outputId": "aa38fd5c-9f1f-4a7c-dc6d-0d5b1d90076a"
   },
   "outputs": [],
   "source": [
    "from google.colab import drive\n",
    "drive.mount('/content/drive')"
   ]
  },
  {
   "cell_type": "code",
   "execution_count": null,
   "metadata": {
    "colab": {
     "base_uri": "https://localhost:8080/"
    },
    "id": "p4RyYz8ybg0_",
    "outputId": "aa4c22bd-92e8-4483-e4e7-67c9369091df"
   },
   "outputs": [],
   "source": [
    "# List all NVIDIA GPUs as avaialble in this computer (or Colab's session)\n",
    "!nvidia-smi -L"
   ]
  },
  {
   "cell_type": "code",
   "execution_count": null,
   "metadata": {
    "colab": {
     "base_uri": "https://localhost:8080/"
    },
    "id": "1UtIAwk0biCL",
    "outputId": "073e0e95-14b1-49ed-96dd-df0b19acd794"
   },
   "outputs": [],
   "source": [
    "import sys\n",
    "print( f\"Python {sys.version}\\n\" )\n",
    "\n",
    "import numpy as np\n",
    "print( f\"NumPy {np.__version__}\\n\" )\n",
    "\n",
    "import matplotlib.pyplot as plt\n",
    "%matplotlib inline\n",
    "\n",
    "# For image resizing\n",
    "import cv2 as cv\n",
    "print( f\"OpenCV {cv.__version__}\\n\" )\n",
    "\n",
    "import tensorflow as tf\n",
    "print( f\"TensorFlow {tf.__version__}\" )\n",
    "print( f\"tf.keras.backend.image_data_format() = {tf.keras.backend.image_data_format()}\" )\n",
    "\n",
    "# Count the number of GPUs as detected by tensorflow\n",
    "gpus = tf.config.list_physical_devices('GPU')\n",
    "print( f\"TensorFlow detected { len(gpus) } GPU(s):\" )\n",
    "for i, gpu in enumerate(gpus):\n",
    "  print( f\".... GPU No. {i}: Name = {gpu.name} , Type = {gpu.device_type}\" )"
   ]
  },
  {
   "cell_type": "markdown",
   "metadata": {
    "id": "Xsu13wObblRv"
   },
   "source": [
    "## Prepare Data"
   ]
  },
  {
   "cell_type": "code",
   "execution_count": null,
   "metadata": {
    "id": "2l7S8OGkbkFB"
   },
   "outputs": [],
   "source": [
    "import numpy as np\n",
    "import pandas as pd\n",
    "import matplotlib.pyplot as plt\n",
    "import tensorflow as tf\n",
    "import tensorflow_datasets as tfds\n",
    "import pathlib\n",
    "import os\n",
    "import seaborn as sns\n",
    "\n",
    "from sklearn.model_selection import train_test_split\n",
    "from sklearn.metrics import f1_score, accuracy_score, confusion_matrix, classification_report, roc_curve\n",
    "from tensorflow.keras.preprocessing.image import img_to_array, load_img\n",
    "from keras_preprocessing.image import ImageDataGenerator"
   ]
  },
  {
   "cell_type": "code",
   "execution_count": null,
   "metadata": {
    "id": "676W-ZAGbrno"
   },
   "outputs": [],
   "source": [
    "data_path = pathlib.Path(r\"/content/drive/MyDrive/Colab Notebooks/CNN (1)/data\")\n",
    "\n",
    "all_images = list(data_path.glob(r'*/*.jpg')) + list(data_path.glob(r'*/*.jpeg')) + list(data_path.glob(r'*/*.png'))\n",
    "\n",
    "images = []\n",
    "labels = []\n",
    "\n",
    "for item in all_images:\n",
    "    path = os.path.normpath(item)\n",
    "    splits = path.split(os.sep)\n",
    "    if 'GT' not in splits[-2]:\n",
    "        images.append(item)\n",
    "        label = splits[-2]\n",
    "        labels.append(label)"
   ]
  },
  {
   "cell_type": "code",
   "execution_count": null,
   "metadata": {
    "colab": {
     "base_uri": "https://localhost:8080/",
     "height": 206
    },
    "id": "ETNpUboJbtlN",
    "outputId": "f9578091-d441-455a-9538-013af74a748c"
   },
   "outputs": [],
   "source": [
    "image_pathes = pd.Series(images).astype(str)\n",
    "labels = pd.Series(labels)\n",
    "\n",
    "dataframe =pd.concat([image_pathes, labels], axis=1)\n",
    "\n",
    "dataframe.columns = ['images', 'labels']\n",
    "\n",
    "dataframe.head()"
   ]
  },
  {
   "cell_type": "code",
   "execution_count": null,
   "metadata": {
    "colab": {
     "base_uri": "https://localhost:8080/",
     "height": 455
    },
    "id": "k8BpaGaabvSJ",
    "outputId": "9f4be89b-3cd1-4ba3-f87d-373b50ff641e"
   },
   "outputs": [],
   "source": [
    "dataframe.groupby('labels').count()"
   ]
  },
  {
   "cell_type": "code",
   "execution_count": null,
   "metadata": {
    "colab": {
     "base_uri": "https://localhost:8080/",
     "height": 594
    },
    "id": "Sv8UFcjWbw7V",
    "outputId": "432f4f97-c109-4527-b962-f836765aa873"
   },
   "outputs": [],
   "source": [
    "fig, axes = plt.subplots(nrows=5, ncols=5, figsize=(15,10), subplot_kw={'xticks':[], 'yticks':[]})\n",
    "for i, ax in enumerate(axes.flat):\n",
    "    ax.imshow(plt.imread(dataframe.images[i]))\n",
    "    ax.set_title(dataframe.labels[i])\n",
    "plt.show()"
   ]
  },
  {
   "cell_type": "code",
   "execution_count": null,
   "metadata": {
    "id": "KaGGLyV-bym3"
   },
   "outputs": [],
   "source": [
    "shuffled_dataframe = dataframe.sample(frac = 1)"
   ]
  },
  {
   "cell_type": "code",
   "execution_count": null,
   "metadata": {
    "id": "5Z9PYLVIb0L9"
   },
   "outputs": [],
   "source": [
    "all_train, test = train_test_split(shuffled_dataframe, test_size=0.2, random_state=42)\n",
    "train, val = train_test_split(all_train, test_size=0.3, random_state=42)"
   ]
  },
  {
   "cell_type": "code",
   "execution_count": null,
   "metadata": {
    "colab": {
     "base_uri": "https://localhost:8080/",
     "height": 206
    },
    "id": "bS8iwNXlb1hX",
    "outputId": "54901e82-c16a-4084-88e0-a7855c823ae0"
   },
   "outputs": [],
   "source": [
    "test.head()"
   ]
  },
  {
   "cell_type": "code",
   "execution_count": null,
   "metadata": {
    "colab": {
     "base_uri": "https://localhost:8080/"
    },
    "id": "kcLg3IYyb2-m",
    "outputId": "27a52b10-273c-4c07-94d0-28137a44b934"
   },
   "outputs": [],
   "source": [
    "training_data_gen = tf.keras.preprocessing.image.ImageDataGenerator(rescale=1/255.0,rotation_range = 40, width_shift_range = 0.2, height_shift_range = 0.2, shear_range = 0.2, zoom_range = 0.2, horizontal_flip = True)\n",
    "training_generator = training_data_gen.flow_from_dataframe(dataframe=train,\n",
    "                                                          x_col='images', y_col='labels',\n",
    "                                                          target_size=(224, 224),\n",
    "                                                          color_mode='rgb',\n",
    "                                                          class_mode='categorical',\n",
    "                                                          batch_size=64)\n",
    "\n",
    "val_data_gen = tf.keras.preprocessing.image.ImageDataGenerator(rescale=1/255.0)\n",
    "validation_generator = val_data_gen.flow_from_dataframe(dataframe=val,\n",
    "                                                       x_col='images', y_col='labels',\n",
    "                                                       target_size=(224, 224),\n",
    "                                                       color_mode='rgb',\n",
    "                                                       class_mode='categorical',\n",
    "                                                       batch_size=64)\n",
    "\n",
    "test_data_gen = tf.keras.preprocessing.image.ImageDataGenerator(rescale=1/255.0)\n",
    "test_generator = test_data_gen.flow_from_dataframe(dataframe=test,\n",
    "                                                  x_col='images', y_col='labels',\n",
    "                                                  target_size=(224, 224),\n",
    "                                                  color_mode='rgb',\n",
    "                                                  class_mode='categorical',\n",
    "                                                  batch_size=64,\n",
    "                                                  shuffle=False)"
   ]
  },
  {
   "cell_type": "code",
   "execution_count": null,
   "metadata": {
    "colab": {
     "base_uri": "https://localhost:8080/"
    },
    "id": "Z6B5D0A6b6H4",
    "outputId": "906be619-5c52-4b3d-b603-44035862db2f"
   },
   "outputs": [],
   "source": [
    "label_map = test_generator.class_indices\n",
    "label_map"
   ]
  },
  {
   "cell_type": "code",
   "execution_count": null,
   "metadata": {
    "colab": {
     "base_uri": "https://localhost:8080/"
    },
    "id": "CGBNMwjmb8aJ",
    "outputId": "f440e658-ce46-435f-ad5b-59c947427b11"
   },
   "outputs": [],
   "source": [
    "test_generator.class_indices.keys()"
   ]
  },
  {
   "cell_type": "markdown",
   "metadata": {
    "id": "JmyE26s5b_vg"
   },
   "source": [
    "# Import VGG16 Model"
   ]
  },
  {
   "cell_type": "markdown",
   "metadata": {
    "id": "YirplHUjeJ9b"
   },
   "source": [
    " VGG16 Base Model "
   ]
  },
  {
   "cell_type": "code",
   "execution_count": null,
   "metadata": {
    "colab": {
     "base_uri": "https://localhost:8080/"
    },
    "id": "qav82a30b-s1",
    "outputId": "d0435b00-27b9-49e4-8a21-d7839c9811b4"
   },
   "outputs": [],
   "source": [
    "from tensorflow.keras.applications.vgg16 import VGG16\n",
    "\n",
    "base_model = VGG16(input_shape = (224, 224, 3), # Shape of our images\n",
    "include_top = False, # Leave out the last fully connected layer\n",
    "weights = 'imagenet')"
   ]
  },
  {
   "cell_type": "code",
   "execution_count": null,
   "metadata": {
    "id": "NGOIQ7MAcMxn"
   },
   "outputs": [],
   "source": [
    "for layer in base_model.layers:\n",
    "    layer.trainable = True\n",
    "    \n",
    "from tensorflow.keras import layers \n",
    "from tensorflow.keras import Model "
   ]
  },
  {
   "cell_type": "code",
   "execution_count": null,
   "metadata": {
    "id": "v8cvkutMcOAd"
   },
   "outputs": [],
   "source": [
    "y = layers.Flatten()(base_model.output)\n",
    "y = layers.Dense(77, activation='softmax')(y)\n",
    "base_model = tf.keras.models.Model(base_model.input, y)\n",
    "base_model.compile(optimizer = tf.keras.optimizers.RMSprop(learning_rate=0.0001), loss = 'categorical_crossentropy',metrics = ['acc'])"
   ]
  },
  {
   "cell_type": "code",
   "execution_count": null,
   "metadata": {
    "colab": {
     "base_uri": "https://localhost:8080/"
    },
    "id": "OiIBJpnEcoIi",
    "outputId": "9570148b-1693-4fa0-b9f2-1da6c4fa89e1"
   },
   "outputs": [],
   "source": [
    "vgg_basehist = base_model.fit(training_generator, validation_data = validation_generator, epochs = 50)"
   ]
  },
  {
   "cell_type": "code",
   "execution_count": null,
   "metadata": {
    "colab": {
     "base_uri": "https://localhost:8080/",
     "height": 282
    },
    "id": "bSwkama9ctCU",
    "outputId": "949c458d-04d7-4349-eb50-dec04f4eda5e"
   },
   "outputs": [],
   "source": [
    "base_model_train_loss = vgg_basehist.history['loss']\n",
    "base_model_val_loss =vgg_basehist.history['val_loss']\n",
    "\n",
    "plt.plot(vgg_basehist.epoch, base_model_train_loss, label='Trainnig Loss')\n",
    "plt.plot(vgg_basehist.epoch, base_model_val_loss, label='Validation Loss')\n",
    "plt.grid(True)\n",
    "plt.legend()"
   ]
  },
  {
   "cell_type": "code",
   "execution_count": null,
   "metadata": {
    "colab": {
     "base_uri": "https://localhost:8080/",
     "height": 282
    },
    "id": "vimiYXj2c6Gf",
    "outputId": "df64c941-9a17-4fac-cfd4-737b4444e976"
   },
   "outputs": [],
   "source": [
    "base_model_train_acc =vgg_basehist.history['acc']\n",
    "base_model_val_acc = vgg_basehist.history['val_acc']\n",
    "\n",
    "plt.plot(vgg_basehist.epoch, base_model_train_acc, label='Trainnig Accuracy')\n",
    "plt.plot(vgg_basehist.epoch, base_model_val_acc, label='Validation Accuracy')\n",
    "plt.grid(True)\n",
    "plt.legend()"
   ]
  },
  {
   "cell_type": "code",
   "execution_count": null,
   "metadata": {
    "colab": {
     "base_uri": "https://localhost:8080/"
    },
    "id": "ciXU-qUvdHFB",
    "outputId": "99f353e1-35b3-4fa6-969e-55adc66efb45"
   },
   "outputs": [],
   "source": [
    "base_model.evaluate(test_generator)"
   ]
  },
  {
   "cell_type": "code",
   "execution_count": null,
   "metadata": {
    "colab": {
     "base_uri": "https://localhost:8080/"
    },
    "id": "BWrzbL6KdVsX",
    "outputId": "2246fdca-e741-4116-9d3e-dedf6452f61a"
   },
   "outputs": [],
   "source": [
    "# Switch Dict and Value\n",
    "label_map_switch = {}\n",
    "for k, v in label_map.items():\n",
    "    label_map_switch[v] = k\n",
    "label_map_switch"
   ]
  },
  {
   "cell_type": "code",
   "execution_count": null,
   "metadata": {
    "colab": {
     "base_uri": "https://localhost:8080/"
    },
    "id": "yGgkE7ufdKE5",
    "outputId": "39765eaa-ee74-4934-d2cd-16663d6016bf"
   },
   "outputs": [],
   "source": [
    "predictions = base_model.predict(test_generator)     # Vector of probabilities\n",
    "pred_labels = np.argmax(predictions, axis = 1) # We take the highest probability\n",
    "predicted_label_batch =list(map(label_map_switch.get, pred_labels.tolist()))"
   ]
  },
  {
   "cell_type": "code",
   "execution_count": null,
   "metadata": {
    "colab": {
     "base_uri": "https://localhost:8080/",
     "height": 206
    },
    "id": "ZlLVTDY1dTh5",
    "outputId": "df9acb2a-cc4c-42aa-a316-a3706ff8f868"
   },
   "outputs": [],
   "source": [
    "test_dup = test.copy()\n",
    "test_dup = test_dup.reset_index(drop=True)\n",
    "test_dup[\"predict\"] = pd.DataFrame(predicted_label_batch)\n",
    "test_dup.head()"
   ]
  },
  {
   "cell_type": "code",
   "execution_count": null,
   "metadata": {
    "colab": {
     "base_uri": "https://localhost:8080/"
    },
    "id": "0vlKwlOOdc1d",
    "outputId": "c7dae9fb-97de-45e4-aee1-99e02211b0ad"
   },
   "outputs": [],
   "source": [
    "y_pred = [label_map_switch[k] for k in pred_labels]\n",
    "print(classification_report(test.labels, y_pred))"
   ]
  },
  {
   "cell_type": "code",
   "execution_count": null,
   "metadata": {
    "colab": {
     "base_uri": "https://localhost:8080/",
     "height": 1000
    },
    "id": "U7lN7OmHdhgg",
    "outputId": "7843d467-e4b3-4d9e-bbe6-b4507d061ab7"
   },
   "outputs": [],
   "source": [
    "fig, axes = plt.subplots(nrows=10, ncols=5, figsize=(20,20), subplot_kw={'xticks':[], 'yticks':[]})\n",
    "for i, ax in enumerate(axes.flat):\n",
    "    ax.imshow(plt.imread(test_dup.images[i]))\n",
    "    color = \"green\" if test_dup.predict[i] == test_dup.labels[i] else \"red\"\n",
    "    ax.set_title(test_dup.labels[i],color=color)\n",
    "plt.show()"
   ]
  },
  {
   "cell_type": "markdown",
   "metadata": {
    "id": "NE0kmHfteW8T"
   },
   "source": [
    "VGG16 Finetuning"
   ]
  },
  {
   "cell_type": "code",
   "execution_count": null,
   "metadata": {
    "id": "q_F2_0gydv2M"
   },
   "outputs": [],
   "source": [
    "from tensorflow.keras.applications.vgg16 import VGG16\n",
    "\n",
    "vgg_base_model = VGG16(input_shape = (224, 224, 3), # Shape of our images\n",
    "include_top = False, # Leave out the last fully connected layer\n",
    "weights = 'imagenet')"
   ]
  },
  {
   "cell_type": "code",
   "execution_count": null,
   "metadata": {
    "id": "QhgAC0wpeg9x"
   },
   "outputs": [],
   "source": [
    "for layer in vgg_base_model.layers:\n",
    "    layer.trainable = False\n",
    "    \n",
    "from tensorflow.keras import layers \n",
    "from tensorflow.keras import Model "
   ]
  },
  {
   "cell_type": "code",
   "execution_count": null,
   "metadata": {
    "id": "5CmzUzuyelDc"
   },
   "outputs": [],
   "source": [
    "# Flatten the output layer to 1 dimension\n",
    "x = layers.Flatten()(vgg_base_model.output)\n",
    "\n",
    "# Add a fully connected layer with 512 hidden units and ReLU activation\n",
    "x = layers.Dense(512, activation='relu')(x)\n",
    "\n",
    "# Add a dropout rate of 0.5\n",
    "x = layers.Dropout(0.5)(x)\n",
    "\n",
    "# Add a final softmax layer with 77 nodes for classification output\n",
    "x = layers.Dense(77, activation='softmax')(x)\n",
    "\n",
    "vgg_newmodel = tf.keras.models.Model(vgg_base_model.input, x)\n",
    "\n",
    "vgg_newmodel.compile(optimizer = tf.keras.optimizers.RMSprop(learning_rate=0.0001), loss = 'categorical_crossentropy',metrics = ['acc'])"
   ]
  },
  {
   "cell_type": "code",
   "execution_count": null,
   "metadata": {
    "colab": {
     "base_uri": "https://localhost:8080/"
    },
    "id": "R5yFabzPet0j",
    "outputId": "c1c936be-4a26-4185-fb10-6d2b7e96ee59"
   },
   "outputs": [],
   "source": [
    "vgghist = vgg_newmodel.fit(training_generator, validation_data = validation_generator, epochs = 50)"
   ]
  },
  {
   "cell_type": "code",
   "execution_count": null,
   "metadata": {
    "colab": {
     "base_uri": "https://localhost:8080/",
     "height": 282
    },
    "id": "dKJbODQvfDNd",
    "outputId": "3e766807-1ec6-492e-eda3-37c7a15c1009"
   },
   "outputs": [],
   "source": [
    "model_train_loss = vgghist.history['loss']\n",
    "model_val_loss = vgghist.history['val_loss']\n",
    "\n",
    "plt.plot(vgghist.epoch, model_train_loss, label='Trainnig Loss')\n",
    "plt.plot(vgghist.epoch, model_val_loss, label='Validation Loss')\n",
    "plt.grid(True)\n",
    "plt.legend()"
   ]
  },
  {
   "cell_type": "code",
   "execution_count": null,
   "metadata": {
    "colab": {
     "base_uri": "https://localhost:8080/",
     "height": 282
    },
    "id": "kefOrc4tfHEB",
    "outputId": "964f7def-912b-4768-fa62-7dcc72b87976"
   },
   "outputs": [],
   "source": [
    "train_acc = vgghist.history['acc']\n",
    "val_acc = vgghist.history['val_acc']\n",
    "\n",
    "plt.plot(vgghist.epoch, train_acc, label='Trainnig Accuracy')\n",
    "plt.plot(vgghist.epoch, val_acc, label='Validation Accuracy')\n",
    "plt.grid(True)\n",
    "plt.legend()"
   ]
  },
  {
   "cell_type": "code",
   "execution_count": null,
   "metadata": {
    "colab": {
     "base_uri": "https://localhost:8080/"
    },
    "id": "hzmYInyafIgO",
    "outputId": "10a2f9e3-a51c-4798-80f9-76df7485556b"
   },
   "outputs": [],
   "source": [
    "vgg_newmodel.evaluate(test_generator)"
   ]
  },
  {
   "cell_type": "code",
   "execution_count": null,
   "metadata": {
    "colab": {
     "base_uri": "https://localhost:8080/"
    },
    "id": "d4dV1aypfkDp",
    "outputId": "328ca7af-1c09-4931-d504-3390dd2fa0ea"
   },
   "outputs": [],
   "source": [
    "# Switch Dict and Value\n",
    "label_map_switch = {}\n",
    "for k, v in label_map.items():\n",
    "    label_map_switch[v] = k\n",
    "label_map_switch"
   ]
  },
  {
   "cell_type": "code",
   "execution_count": null,
   "metadata": {
    "colab": {
     "base_uri": "https://localhost:8080/"
    },
    "id": "OHzd6amiflTi",
    "outputId": "682fa6fb-ee9c-45c5-ca48-44b352262240"
   },
   "outputs": [],
   "source": [
    "predictions = vgg_newmodel.predict(test_generator)     # Vector of probabilities\n",
    "pred_labels = np.argmax(predictions, axis = 1) # We take the highest probability\n",
    "predicted_label_batch =list(map(label_map_switch.get, pred_labels.tolist()))"
   ]
  },
  {
   "cell_type": "code",
   "execution_count": null,
   "metadata": {
    "colab": {
     "base_uri": "https://localhost:8080/",
     "height": 206
    },
    "id": "RnjGRpzTf0GK",
    "outputId": "9e04a5c8-9eb4-431a-d6d2-2cc0430fb859"
   },
   "outputs": [],
   "source": [
    "test_dup = test.copy()\n",
    "test_dup = test_dup.reset_index(drop=True)\n",
    "test_dup[\"predict\"] = pd.DataFrame(predicted_label_batch)\n",
    "test_dup.head()"
   ]
  },
  {
   "cell_type": "code",
   "execution_count": null,
   "metadata": {
    "colab": {
     "base_uri": "https://localhost:8080/"
    },
    "id": "lCwoEAsIf3Sr",
    "outputId": "bed85cae-e3a0-46db-f952-173617b9bb49"
   },
   "outputs": [],
   "source": [
    "y_pred = [label_map_switch[k] for k in pred_labels]\n",
    "print(classification_report(test.labels, y_pred))"
   ]
  },
  {
   "cell_type": "code",
   "execution_count": null,
   "metadata": {
    "colab": {
     "base_uri": "https://localhost:8080/",
     "height": 1000
    },
    "id": "CwbqG2n0f5zh",
    "outputId": "89b1deae-589e-4676-b072-55cf398f6db4"
   },
   "outputs": [],
   "source": [
    "fig, axes = plt.subplots(nrows=10, ncols=5, figsize=(20,20), subplot_kw={'xticks':[], 'yticks':[]})\n",
    "for i, ax in enumerate(axes.flat):\n",
    "    ax.imshow(plt.imread(test_dup.images[i]))\n",
    "    color = \"green\" if test_dup.predict[i] == test_dup.labels[i] else \"red\"\n",
    "    ax.set_title(test_dup.labels[i],color=color)\n",
    "plt.show()"
   ]
  },
  {
   "cell_type": "markdown",
   "metadata": {
    "id": "KNbEH_-qf-a2"
   },
   "source": [
    "# Import EfficientNet"
   ]
  },
  {
   "cell_type": "markdown",
   "metadata": {
    "id": "zRCTgPulgIew"
   },
   "source": [
    "EfficientNet Base Model"
   ]
  },
  {
   "cell_type": "code",
   "execution_count": null,
   "metadata": {
    "colab": {
     "base_uri": "https://localhost:8080/"
    },
    "id": "Oz6HBgXX92tD",
    "outputId": "d2d35209-6853-4a34-e376-0c5abc0a0f61"
   },
   "outputs": [],
   "source": [
    "pip install efficientnet"
   ]
  },
  {
   "cell_type": "code",
   "execution_count": null,
   "metadata": {
    "colab": {
     "base_uri": "https://localhost:8080/"
    },
    "id": "PKYHkUVvgHwv",
    "outputId": "8aeecbe6-5ad7-46ce-8ec0-2606db28510f"
   },
   "outputs": [],
   "source": [
    "import efficientnet.keras as efn\n",
    "base_model = efn.EfficientNetB0(input_shape = (224, 224, 3), include_top = False, weights = 'imagenet')"
   ]
  },
  {
   "cell_type": "code",
   "execution_count": null,
   "metadata": {
    "id": "uwgqTIudgO3j"
   },
   "outputs": [],
   "source": [
    "for layer in base_model.layers:\n",
    "    layer.trainable = True\n",
    "    \n",
    "from tensorflow.keras import layers \n",
    "from tensorflow.keras import Model "
   ]
  },
  {
   "cell_type": "code",
   "execution_count": null,
   "metadata": {
    "id": "R6pxTVrvgQny"
   },
   "outputs": [],
   "source": [
    "y = layers.Flatten()(base_model.output)\n",
    "y = layers.Dense(77, activation='softmax')(y)\n",
    "base_model = tf.keras.models.Model(base_model.input, y)\n",
    "base_model.compile(optimizer = tf.keras.optimizers.RMSprop(learning_rate=0.0001), loss = 'categorical_crossentropy',metrics = ['acc'])"
   ]
  },
  {
   "cell_type": "code",
   "execution_count": null,
   "metadata": {
    "colab": {
     "base_uri": "https://localhost:8080/"
    },
    "id": "Cc2CChRugln8",
    "outputId": "86569e26-7c88-4a34-f567-efbc42d8009e"
   },
   "outputs": [],
   "source": [
    "efn_basehist = base_model.fit(training_generator, validation_data = validation_generator, epochs = 50)"
   ]
  },
  {
   "cell_type": "code",
   "execution_count": null,
   "metadata": {
    "colab": {
     "base_uri": "https://localhost:8080/",
     "height": 282
    },
    "id": "7LT-7o6JgsmJ",
    "outputId": "69c8fe07-eac2-4d73-bf99-d4f7a8b3d2a8"
   },
   "outputs": [],
   "source": [
    "base_model_train_loss = efn_basehist.history['loss']\n",
    "base_model_val_loss = efn_basehist.history['val_loss']\n",
    "\n",
    "plt.plot(efn_basehist.epoch, base_model_train_loss, label='Trainnig Loss')\n",
    "plt.plot(efn_basehist.epoch, base_model_val_loss, label='Validation Loss')\n",
    "plt.grid(True)\n",
    "plt.legend()"
   ]
  },
  {
   "cell_type": "code",
   "execution_count": null,
   "metadata": {
    "colab": {
     "base_uri": "https://localhost:8080/",
     "height": 282
    },
    "id": "6ViE6aiXg8Jl",
    "outputId": "dd2e60a0-896d-43da-e7a4-d2ab08959237"
   },
   "outputs": [],
   "source": [
    "base_model_train_acc =efn_basehist.history['acc']\n",
    "base_model_val_acc = efn_basehist.history['val_acc']\n",
    "\n",
    "plt.plot(efn_basehist.epoch, base_model_train_acc, label='Trainnig Accuracy')\n",
    "plt.plot(efn_basehist.epoch, base_model_val_acc, label='Validation Accuracy')\n",
    "plt.grid(True)\n",
    "plt.legend()"
   ]
  },
  {
   "cell_type": "code",
   "execution_count": null,
   "metadata": {
    "colab": {
     "base_uri": "https://localhost:8080/"
    },
    "id": "V0_bC-CZhCh1",
    "outputId": "c28b75d1-f850-4504-e042-21faf824d55a"
   },
   "outputs": [],
   "source": [
    "base_model.evaluate(test_generator)"
   ]
  },
  {
   "cell_type": "code",
   "execution_count": null,
   "metadata": {
    "colab": {
     "base_uri": "https://localhost:8080/"
    },
    "id": "xIkjMtQbhFkZ",
    "outputId": "91cfe710-3676-4748-e282-c7b8bd35b4fe"
   },
   "outputs": [],
   "source": [
    "predictions = base_model.predict(test_generator)     # Vector of probabilities\n",
    "pred_labels = np.argmax(predictions, axis = 1) # We take the highest probability\n",
    "predicted_label_batch =list(map(label_map_switch.get, pred_labels.tolist()))"
   ]
  },
  {
   "cell_type": "code",
   "execution_count": null,
   "metadata": {
    "colab": {
     "base_uri": "https://localhost:8080/",
     "height": 206
    },
    "id": "myU4ahQAhM61",
    "outputId": "ce14571e-8e15-4c99-ef43-c0a4326d6b46"
   },
   "outputs": [],
   "source": [
    "test_dup = test.copy()\n",
    "test_dup = test_dup.reset_index(drop=True)\n",
    "test_dup[\"predict\"] = pd.DataFrame(predicted_label_batch)\n",
    "test_dup.head()"
   ]
  },
  {
   "cell_type": "code",
   "execution_count": null,
   "metadata": {
    "colab": {
     "base_uri": "https://localhost:8080/"
    },
    "id": "HeYY95G8hQvM",
    "outputId": "9c1b5d6a-4bcf-4f1c-898b-23183237688b"
   },
   "outputs": [],
   "source": [
    "y_pred = [label_map_switch[k] for k in pred_labels]\n",
    "print(classification_report(test.labels, y_pred))"
   ]
  },
  {
   "cell_type": "code",
   "execution_count": null,
   "metadata": {
    "colab": {
     "base_uri": "https://localhost:8080/",
     "height": 1000
    },
    "id": "RTumUMmyhZth",
    "outputId": "21b82b3c-676f-4ebc-b561-0ca8993d6508"
   },
   "outputs": [],
   "source": [
    "fig, axes = plt.subplots(nrows=10, ncols=5, figsize=(20,20), subplot_kw={'xticks':[], 'yticks':[]})\n",
    "for i, ax in enumerate(axes.flat):\n",
    "    ax.imshow(plt.imread(test_dup.images[i]))\n",
    "    color = \"green\" if test_dup.predict[i] == test_dup.labels[i] else \"red\"\n",
    "    ax.set_title(test_dup.labels[i],color=color)\n",
    "plt.show()"
   ]
  },
  {
   "cell_type": "markdown",
   "metadata": {
    "id": "LY-msNLDhdoH"
   },
   "source": [
    "EfficientNet Finetunig"
   ]
  },
  {
   "cell_type": "code",
   "execution_count": null,
   "metadata": {
    "id": "Mzsl_NKihjRx"
   },
   "outputs": [],
   "source": [
    "import efficientnet.keras as efn\n",
    "base_model = efn.EfficientNetB0(input_shape = (224, 224, 3), include_top = False, weights = 'imagenet')"
   ]
  },
  {
   "cell_type": "code",
   "execution_count": null,
   "metadata": {
    "id": "9XwZoyNmhmFS"
   },
   "outputs": [],
   "source": [
    "for layer in base_model.layers:\n",
    "    layer.trainable = False\n",
    "    \n",
    "from tensorflow.keras import layers \n",
    "from tensorflow.keras import Model "
   ]
  },
  {
   "cell_type": "code",
   "execution_count": null,
   "metadata": {
    "id": "s6NsBa5WhnXg"
   },
   "outputs": [],
   "source": [
    "# Flatten the output layer to 1 dimension\n",
    "x = layers.Flatten()(base_model.output)\n",
    "\n",
    "# Add a fully connected layer with 512 hidden units and ReLU activation\n",
    "x = layers.Dense(512, activation='relu')(x)\n",
    "\n",
    "# Add a dropout rate of 0.5\n",
    "x = layers.Dropout(0.5)(x)\n",
    "\n",
    "# Add a final softmax layer with 77 nodes for classification output\n",
    "x = layers.Dense(77, activation='softmax')(x)\n",
    "\n",
    "efn_newmodel = tf.keras.models.Model(base_model.input, x)\n",
    "\n",
    "efn_newmodel.compile(optimizer = tf.keras.optimizers.RMSprop(learning_rate=0.0001), loss = 'categorical_crossentropy',metrics = ['acc'])"
   ]
  },
  {
   "cell_type": "code",
   "execution_count": null,
   "metadata": {
    "colab": {
     "base_uri": "https://localhost:8080/"
    },
    "id": "mZKblrBCh3Hv",
    "outputId": "0df4f7b2-1a3e-44cc-d723-2df0baa1e44e"
   },
   "outputs": [],
   "source": [
    "efnhist = efn_newmodel.fit(training_generator, validation_data = validation_generator, epochs = 50)"
   ]
  },
  {
   "cell_type": "code",
   "execution_count": null,
   "metadata": {
    "id": "ohCGSvfVjAag"
   },
   "outputs": [],
   "source": [
    "model_train_loss = efnhist.history['loss']\n",
    "model_val_loss = efnhist.history['val_loss']\n",
    "\n",
    "plt.plot(efnhist.epoch, model_train_loss, label='Trainnig Loss')\n",
    "plt.plot(efnhist.epoch, model_val_loss, label='Validation Loss')\n",
    "plt.grid(True)\n",
    "plt.legend()"
   ]
  },
  {
   "cell_type": "code",
   "execution_count": null,
   "metadata": {
    "id": "r8MTXeiwjz9f"
   },
   "outputs": [],
   "source": [
    "train_acc = efnhist.history['acc']\n",
    "val_acc = efnhist.history['val_acc']\n",
    "\n",
    "plt.plot(efnhist.epoch, train_acc, label='Trainnig Accuracy')\n",
    "plt.plot(efnhist.epoch, val_acc, label='Validation Accuracy')\n",
    "plt.grid(True)\n",
    "plt.legend()"
   ]
  },
  {
   "cell_type": "code",
   "execution_count": null,
   "metadata": {
    "id": "6vEolCK0j5Gp"
   },
   "outputs": [],
   "source": [
    "efn_newmodel.evaluate(test_generator)"
   ]
  },
  {
   "cell_type": "code",
   "execution_count": null,
   "metadata": {
    "id": "kG_c5nUIkG7_"
   },
   "outputs": [],
   "source": [
    "# Switch Dict and Value\n",
    "label_map_switch = {}\n",
    "for k, v in label_map.items():\n",
    "    label_map_switch[v] = k\n",
    "label_map_switch"
   ]
  },
  {
   "cell_type": "code",
   "execution_count": null,
   "metadata": {
    "id": "XaL_m6TXkIf7"
   },
   "outputs": [],
   "source": [
    "predictions = efn_newmodel.predict(test_generator)     # Vector of probabilities\n",
    "pred_labels = np.argmax(predictions, axis = 1) # We take the highest probability\n",
    "predicted_label_batch =list(map(label_map_switch.get, pred_labels.tolist()))"
   ]
  },
  {
   "cell_type": "code",
   "execution_count": null,
   "metadata": {
    "id": "_Eifgx-ikRlh"
   },
   "outputs": [],
   "source": [
    "test_dup = test.copy()\n",
    "test_dup = test_dup.reset_index(drop=True)\n",
    "test_dup[\"predict\"] = pd.DataFrame(predicted_label_batch)\n",
    "test_dup.head()"
   ]
  },
  {
   "cell_type": "code",
   "execution_count": null,
   "metadata": {
    "id": "hc4oAHdkkUa1"
   },
   "outputs": [],
   "source": [
    "y_pred = [label_map_switch[k] for k in pred_labels]\n",
    "print(classification_report(test.labels, y_pred))"
   ]
  },
  {
   "cell_type": "code",
   "execution_count": null,
   "metadata": {
    "id": "1uFh9IPYkV3C"
   },
   "outputs": [],
   "source": [
    "fig, axes = plt.subplots(nrows=10, ncols=5, figsize=(20,20), subplot_kw={'xticks':[], 'yticks':[]})\n",
    "for i, ax in enumerate(axes.flat):\n",
    "    ax.imshow(plt.imread(test_dup.images[i]))\n",
    "    color = \"green\" if test_dup.predict[i] == test_dup.labels[i] else \"red\"\n",
    "    ax.set_title(test_dup.labels[i],color=color)\n",
    "plt.show()"
   ]
  },
  {
   "cell_type": "markdown",
   "metadata": {
    "id": "Awcs1O2mkbJ0"
   },
   "source": [
    "# Import ResNet50 Model"
   ]
  },
  {
   "cell_type": "markdown",
   "metadata": {
    "id": "qBq-VKFdklet"
   },
   "source": [
    "ResNet50 Base Model"
   ]
  },
  {
   "cell_type": "code",
   "execution_count": null,
   "metadata": {
    "id": "NfxQwuawkYCV"
   },
   "outputs": [],
   "source": [
    "from tensorflow.keras.applications import ResNet50\n",
    "\n",
    "base_model = ResNet50(input_shape=(224, 224,3), include_top=False, weights=\"imagenet\")"
   ]
  },
  {
   "cell_type": "code",
   "execution_count": null,
   "metadata": {
    "id": "HS6BcT69k7AE"
   },
   "outputs": [],
   "source": [
    "for layer in base_model.layers:\n",
    "    layer.trainable = True\n",
    "    \n",
    "from tensorflow.keras import layers \n",
    "from tensorflow.keras import Model "
   ]
  },
  {
   "cell_type": "code",
   "execution_count": null,
   "metadata": {
    "id": "Zf0PO6cRk8oq"
   },
   "outputs": [],
   "source": [
    "y = layers.Flatten()(base_model.output)\n",
    "y = layers.Dense(77, activation='softmax')(y)\n",
    "base_model = tf.keras.models.Model(base_model.input, y)\n",
    "base_model.compile(optimizer = tf.keras.optimizers.RMSprop(learning_rate=0.0001), loss = 'categorical_crossentropy',metrics = ['acc'])"
   ]
  },
  {
   "cell_type": "code",
   "execution_count": null,
   "metadata": {
    "id": "m4qoDcBbk_SS"
   },
   "outputs": [],
   "source": [
    "resnet_basehist = base_model.fit(training_generator, validation_data = validation_generator, epochs = 50)"
   ]
  },
  {
   "cell_type": "code",
   "execution_count": null,
   "metadata": {
    "id": "F1UqlgahlGiQ"
   },
   "outputs": [],
   "source": [
    "base_model_train_loss = resnet_basehist.history['loss']\n",
    "base_model_val_loss = resnet_basehist.history['val_loss']\n",
    "\n",
    "plt.plot(resnet_basehist.epoch, base_model_train_loss, label='Trainnig Loss')\n",
    "plt.plot(res_netbasehist.epoch, base_model_val_loss, label='Validation Loss')\n",
    "plt.grid(True)\n",
    "plt.legend()"
   ]
  },
  {
   "cell_type": "code",
   "execution_count": null,
   "metadata": {
    "id": "S6hiWFw3l-wO"
   },
   "outputs": [],
   "source": [
    "base_model_train_acc = resnet_basehist.history['acc']\n",
    "base_model_val_acc = resnet_basehist.history['val_acc']\n",
    "\n",
    "plt.plot(resnet_basehist.epoch, base_model_train_acc, label='Trainnig Accuracy')\n",
    "plt.plot(resnet_basehist.epoch, base_model_val_acc, label='Validation Accuracy')\n",
    "plt.grid(True)\n",
    "plt.legend()"
   ]
  },
  {
   "cell_type": "code",
   "execution_count": null,
   "metadata": {
    "id": "eoKkjupxmI9X"
   },
   "outputs": [],
   "source": [
    "base_model.evaluate(test_generator)"
   ]
  },
  {
   "cell_type": "code",
   "execution_count": null,
   "metadata": {
    "id": "juqmg2a8mgqu"
   },
   "outputs": [],
   "source": [
    "predictions = base_model.predict(test_generator)     # Vector of probabilities\n",
    "pred_labels = np.argmax(predictions, axis = 1) # We take the highest probability\n",
    "predicted_label_batch =list(map(label_map_switch.get, pred_labels.tolist()))"
   ]
  },
  {
   "cell_type": "code",
   "execution_count": null,
   "metadata": {
    "id": "LeQTYAxtmlRE"
   },
   "outputs": [],
   "source": [
    "test_dup = test.copy()\n",
    "test_dup = test_dup.reset_index(drop=True)\n",
    "test_dup[\"predict\"] = pd.DataFrame(predicted_label_batch)\n",
    "test_dup.head()"
   ]
  },
  {
   "cell_type": "code",
   "execution_count": null,
   "metadata": {
    "id": "w0DUibXLmo90"
   },
   "outputs": [],
   "source": [
    "y_pred = [label_map_switch[k] for k in pred_labels]\n",
    "print(classification_report(test.labels, y_pred))"
   ]
  },
  {
   "cell_type": "code",
   "execution_count": null,
   "metadata": {
    "id": "K9hAE8hmmsBk"
   },
   "outputs": [],
   "source": [
    "fig, axes = plt.subplots(nrows=10, ncols=5, figsize=(20,20), subplot_kw={'xticks':[], 'yticks':[]})\n",
    "for i, ax in enumerate(axes.flat):\n",
    "    ax.imshow(plt.imread(test_dup.images[i]))\n",
    "    color = \"green\" if test_dup.predict[i] == test_dup.labels[i] else \"red\"\n",
    "    ax.set_title(test_dup.labels[i],color=color)\n",
    "plt.show()"
   ]
  },
  {
   "cell_type": "markdown",
   "metadata": {
    "id": "Z_OcFzE3mzBS"
   },
   "source": [
    "ResNet50 Finetuning"
   ]
  },
  {
   "cell_type": "code",
   "execution_count": null,
   "metadata": {
    "id": "dwlMwabamy1q"
   },
   "outputs": [],
   "source": [
    "from tensorflow.keras.applications import ResNet50\n",
    "\n",
    "base_model = ResNet50(input_shape=(224, 224,3), include_top=False, weights=\"imagenet\")"
   ]
  },
  {
   "cell_type": "code",
   "execution_count": null,
   "metadata": {
    "id": "x18lZJhEm63c"
   },
   "outputs": [],
   "source": [
    "for layer in base_model.layers:\n",
    "    layer.trainable = False\n",
    "    \n",
    "from tensorflow.keras import layers \n",
    "from tensorflow.keras import Model "
   ]
  },
  {
   "cell_type": "code",
   "execution_count": null,
   "metadata": {
    "id": "M_NJuLJpm8Tj"
   },
   "outputs": [],
   "source": [
    "# Flatten the output layer to 1 dimension\n",
    "x = layers.Flatten()(base_model.output)\n",
    "\n",
    "# Add a fully connected layer with 512 hidden units and ReLU activation\n",
    "x = layers.Dense(512, activation='relu')(x)\n",
    "\n",
    "# Add a dropout rate of 0.5\n",
    "x = layers.Dropout(0.5)(x)\n",
    "\n",
    "# Add a final softmax layer with 77 node for classification output\n",
    "x = layers.Dense(77, activation='softmax')(x)\n",
    "\n",
    "resnet_newmodel = tf.keras.models.Model(base_model.input, x)\n",
    "\n",
    "resnet_newmodel.compile(optimizer = tf.keras.optimizers.RMSprop(learning_rate=0.0001), loss = 'categorical_crossentropy',metrics = ['acc'])"
   ]
  },
  {
   "cell_type": "code",
   "execution_count": null,
   "metadata": {
    "id": "4xfBQ9ltnGyf"
   },
   "outputs": [],
   "source": [
    "resnethist = resnet_newmodel.fit(training_generator, validation_data = validation_generator, epochs = 100)"
   ]
  },
  {
   "cell_type": "code",
   "execution_count": null,
   "metadata": {
    "id": "AyvscFbTnOAh"
   },
   "outputs": [],
   "source": [
    "model_train_loss = resnethist.history['loss']\n",
    "model_val_loss = resnethist.history['val_loss']\n",
    "\n",
    "plt.plot(resnethist.epoch, model_train_loss, label='Trainnig Loss')\n",
    "plt.plot(resnethist.epoch, model_val_loss, label='Validation Loss')\n",
    "plt.grid(True)\n",
    "plt.legend()"
   ]
  },
  {
   "cell_type": "code",
   "execution_count": null,
   "metadata": {
    "id": "KQXdG9StnWex"
   },
   "outputs": [],
   "source": [
    "train_acc = resnethist.history['acc']\n",
    "val_acc = resnethist.history['val_acc']\n",
    "\n",
    "plt.plot(resnethist.epoch, train_acc, label='Trainnig Accuracy')\n",
    "plt.plot(resnethist.epoch, val_acc, label='Validation Accuracy')\n",
    "plt.grid(True)\n",
    "plt.legend()"
   ]
  },
  {
   "cell_type": "code",
   "execution_count": null,
   "metadata": {
    "id": "NOB_xWjXnc-J"
   },
   "outputs": [],
   "source": [
    "resnet_newmodel.evaluate(test_generator)"
   ]
  },
  {
   "cell_type": "code",
   "execution_count": null,
   "metadata": {
    "id": "Kj70uwvHnhLV"
   },
   "outputs": [],
   "source": [
    "# Switch Dict and Value\n",
    "label_map_switch = {}\n",
    "for k, v in label_map.items():\n",
    "    label_map_switch[v] = k\n",
    "label_map_switch"
   ]
  },
  {
   "cell_type": "code",
   "execution_count": null,
   "metadata": {
    "id": "HLo0suV4niux"
   },
   "outputs": [],
   "source": [
    "predictions = resnet_newmodel.predict(test_generator)     # Vector of probabilities\n",
    "pred_labels = np.argmax(predictions, axis = 1) # We take the highest probability\n",
    "predicted_label_batch =list(map(label_map_switch.get, pred_labels.tolist()))"
   ]
  },
  {
   "cell_type": "code",
   "execution_count": null,
   "metadata": {
    "id": "85x03I-inneM"
   },
   "outputs": [],
   "source": [
    "test_dup = test.copy()\n",
    "test_dup = test_dup.reset_index(drop=True)\n",
    "test_dup[\"predict\"] = pd.DataFrame(predicted_label_batch)\n",
    "test_dup.head()"
   ]
  },
  {
   "cell_type": "code",
   "execution_count": null,
   "metadata": {
    "id": "kpGtBS6Knozl"
   },
   "outputs": [],
   "source": [
    "y_pred = [label_map_switch[k] for k in pred_labels]\n",
    "print(classification_report(test.labels, y_pred))"
   ]
  },
  {
   "cell_type": "code",
   "execution_count": null,
   "metadata": {
    "id": "o8FhSelenqWj"
   },
   "outputs": [],
   "source": [
    "fig, axes = plt.subplots(nrows=10, ncols=5, figsize=(20,20), subplot_kw={'xticks':[], 'yticks':[]})\n",
    "for i, ax in enumerate(axes.flat):\n",
    "    ax.imshow(plt.imread(test_dup.images[i]))\n",
    "    color = \"green\" if test_dup.predict[i] == test_dup.labels[i] else \"red\"\n",
    "    ax.set_title(test_dup.labels[i],color=color)\n",
    "plt.show()"
   ]
  },
  {
   "cell_type": "markdown",
   "metadata": {
    "id": "2-XFLgNen0lg"
   },
   "source": [
    "# Self-Build Model"
   ]
  },
  {
   "cell_type": "code",
   "execution_count": null,
   "metadata": {
    "id": "Ovzj8ZN3nsb2"
   },
   "outputs": [],
   "source": [
    "model = tf.keras.Sequential([\n",
    "    tf.keras.layers.Conv2D(32, (3,3), activation = 'relu', input_shape = (224, 224, 4)),\n",
    "    tf.keras.layers.MaxPooling2D(2,2),\n",
    "    tf.keras.layers.Conv2D(32, (3,3), activation = 'relu'),\n",
    "    tf.keras.layers.MaxPooling2D(2,2),\n",
    "    tf.keras.layers.Flatten(),\n",
    "    tf.keras.layers.Dense(128, activation=tf.nn.relu),\n",
    "    tf.keras.layers.Dense(77, activation=tf.nn.softmax)\n",
    "])"
   ]
  },
  {
   "cell_type": "code",
   "execution_count": null,
   "metadata": {
    "id": "J1XMi3yJoEXG"
   },
   "outputs": [],
   "source": [
    "model.summary()"
   ]
  },
  {
   "cell_type": "code",
   "execution_count": null,
   "metadata": {
    "id": "F6IIuoI8oFun"
   },
   "outputs": [],
   "source": [
    "model.compile(optimizer = tf.keras.optimizers.RMSprop(learning_rate=0.0001), loss = 'categorical_crossentropy',metrics = ['accuracy'])"
   ]
  },
  {
   "cell_type": "code",
   "execution_count": null,
   "metadata": {
    "id": "rosaIxtUoOrp"
   },
   "outputs": [],
   "source": [
    "history = model.fit(training_generator, epochs = 50, validation_data=validation_generator)"
   ]
  },
  {
   "cell_type": "code",
   "execution_count": null,
   "metadata": {
    "id": "09wu9g3woUko"
   },
   "outputs": [],
   "source": [
    "model_train_loss = history.history['loss']\n",
    "model_val_loss = history.history['val_loss']\n",
    "\n",
    "plt.plot(history.epoch, model_train_loss, label='Trainnig Loss')\n",
    "plt.plot(history.epoch, model_val_loss, label='Validation Loss')\n",
    "plt.grid(True)\n",
    "plt.legend()"
   ]
  },
  {
   "cell_type": "code",
   "execution_count": null,
   "metadata": {
    "id": "vj4oJiLHoWQo"
   },
   "outputs": [],
   "source": [
    "train_acc = history.history['accuracy']\n",
    "val_acc = history.history['val_accuracy']\n",
    "\n",
    "plt.plot(history.epoch, train_acc, label='Trainnig Accuracy')\n",
    "plt.plot(history.epoch, val_acc, label='Validation Accuracy')\n",
    "plt.grid(True)\n",
    "plt.legend()"
   ]
  },
  {
   "cell_type": "code",
   "execution_count": null,
   "metadata": {
    "id": "geCRK67loXv-"
   },
   "outputs": [],
   "source": [
    "model.evaluate(test_generator)"
   ]
  },
  {
   "cell_type": "code",
   "execution_count": null,
   "metadata": {
    "id": "waj8nHG6odQU"
   },
   "outputs": [],
   "source": [
    "# Switch Dict and Value\n",
    "label_map_switch = {}\n",
    "for k, v in label_map.items():\n",
    "    label_map_switch[v] = k\n",
    "label_map_switch"
   ]
  },
  {
   "cell_type": "code",
   "execution_count": null,
   "metadata": {
    "id": "jlb6R7lHogtW"
   },
   "outputs": [],
   "source": [
    "predictions = model.predict(test_generator)     # Vector of probabilities\n",
    "pred_labels = np.argmax(predictions, axis = 1) # We take the highest probability\n",
    "predicted_label_batch =list(map(label_map_switch.get, pred_labels.tolist()))"
   ]
  },
  {
   "cell_type": "code",
   "execution_count": null,
   "metadata": {
    "id": "jeWESGThojP8"
   },
   "outputs": [],
   "source": [
    "test_dup = test.copy()\n",
    "test_dup = test_dup.reset_index(drop=True)\n",
    "test_dup[\"predict\"] = pd.DataFrame(predicted_label_batch)\n",
    "test_dup.head()"
   ]
  },
  {
   "cell_type": "code",
   "execution_count": null,
   "metadata": {
    "id": "FBVvHzNPopTM"
   },
   "outputs": [],
   "source": [
    "y_pred = [label_map_switch[k] for k in pred_labels]\n",
    "print(classification_report(test.labels, y_pred))"
   ]
  },
  {
   "cell_type": "code",
   "execution_count": null,
   "metadata": {
    "id": "gekiM8JkozPZ"
   },
   "outputs": [],
   "source": [
    "fig, axes = plt.subplots(nrows=10, ncols=5, figsize=(20,20), subplot_kw={'xticks':[], 'yticks':[]})\n",
    "for i, ax in enumerate(axes.flat):\n",
    "    ax.imshow(plt.imread(test_dup.images[i]))\n",
    "    color = \"green\" if test_dup.predict[i] == test_dup.labels[i] else \"red\"\n",
    "    ax.set_title(test_dup.labels[i],color=color)\n",
    "plt.show()"
   ]
  }
 ],
 "metadata": {
  "accelerator": "GPU",
  "colab": {
   "provenance": []
  },
  "kernelspec": {
   "display_name": "Python 3",
   "language": "python",
   "name": "python3"
  },
  "language_info": {
   "codemirror_mode": {
    "name": "ipython",
    "version": 3
   },
   "file_extension": ".py",
   "mimetype": "text/x-python",
   "name": "python",
   "nbconvert_exporter": "python",
   "pygments_lexer": "ipython3",
   "version": "3.8.8"
  }
 },
 "nbformat": 4,
 "nbformat_minor": 1
}
